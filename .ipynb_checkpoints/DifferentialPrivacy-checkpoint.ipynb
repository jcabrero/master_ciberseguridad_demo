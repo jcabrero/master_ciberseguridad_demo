{
 "cells": [
  {
   "cell_type": "markdown",
   "id": "sublime-manner",
   "metadata": {},
   "source": [
    "# Local Differential Privacy In Practice"
   ]
  },
  {
   "cell_type": "code",
   "execution_count": null,
   "id": "based-orlando",
   "metadata": {},
   "outputs": [],
   "source": [
    "import numpy as np"
   ]
  },
  {
   "cell_type": "markdown",
   "id": "fossil-religion",
   "metadata": {},
   "source": [
    "Our population has 10000 individuals and there is a likelyhood of an individual having driven while drunk of `drunk_driving = 30%`.\n",
    "\n",
    "- If the value of `population[i] == 1` the individual drunk drove. \n",
    "- If the value of `population[i] == 0` the individual was always sober.\n",
    "\n"
   ]
  },
  {
   "cell_type": "code",
   "execution_count": 30,
   "id": "naughty-divorce",
   "metadata": {},
   "outputs": [],
   "source": [
    "drunk_driving = 0.3\n",
    "population_size = 10_000"
   ]
  },
  {
   "cell_type": "code",
   "execution_count": 31,
   "id": "devoted-bibliography",
   "metadata": {},
   "outputs": [
    {
     "name": "stdout",
     "output_type": "stream",
     "text": [
      "-------------------- 0 --------------------\n",
      "In population 0: 3113 individuals have ever drunk while driving\n",
      "In population 0: 6887 individuals have never drunk while driving\n",
      "-------------------- 1 --------------------\n",
      "In population 1: 2934 individuals have ever drunk while driving\n",
      "In population 1: 7066 individuals have never drunk while driving\n",
      "-------------------- 2 --------------------\n",
      "In population 2: 2987 individuals have ever drunk while driving\n",
      "In population 2: 7013 individuals have never drunk while driving\n",
      "-------------------- 3 --------------------\n",
      "In population 3: 3014 individuals have ever drunk while driving\n",
      "In population 3: 6986 individuals have never drunk while driving\n",
      "-------------------- 4 --------------------\n",
      "In population 4: 3038 individuals have ever drunk while driving\n",
      "In population 4: 6962 individuals have never drunk while driving\n",
      "-------------------- 5 --------------------\n",
      "In population 5: 3021 individuals have ever drunk while driving\n",
      "In population 5: 6979 individuals have never drunk while driving\n",
      "-------------------- 6 --------------------\n",
      "In population 6: 3074 individuals have ever drunk while driving\n",
      "In population 6: 6926 individuals have never drunk while driving\n",
      "-------------------- 7 --------------------\n",
      "In population 7: 2918 individuals have ever drunk while driving\n",
      "In population 7: 7082 individuals have never drunk while driving\n",
      "-------------------- 8 --------------------\n",
      "In population 8: 3043 individuals have ever drunk while driving\n",
      "In population 8: 6957 individuals have never drunk while driving\n",
      "-------------------- 9 --------------------\n",
      "In population 9: 2994 individuals have ever drunk while driving\n",
      "In population 9: 7006 individuals have never drunk while driving\n"
     ]
    }
   ],
   "source": [
    "for i in range(10):\n",
    "    a = np.random.choice(2, population_size, p=[1 - drunk_driving,drunk_driving])\n",
    "    print(\"--\" * 10 + \" %d \" %(i) + \"--\" * 10)\n",
    "    print(\"In population %d: %d individuals have ever drunk while driving\" % (i, a.sum()))\n",
    "    print(\"In population %d: %d individuals have never drunk while driving\" % (i, (1 - a).sum()))"
   ]
  },
  {
   "cell_type": "code",
   "execution_count": null,
   "id": "internal-ecology",
   "metadata": {},
   "outputs": [],
   "source": []
  },
  {
   "cell_type": "code",
   "execution_count": 32,
   "id": "instrumental-burst",
   "metadata": {},
   "outputs": [],
   "source": [
    "population = np.random.choice(2, population_size, p=[1 - drunk_driving,drunk_driving])\n"
   ]
  },
  {
   "cell_type": "markdown",
   "id": "statewide-justice",
   "metadata": {},
   "source": [
    "The procedure for random coin flipping is the following:\n",
    "\n",
    "- If `coin_1 == 0`: The individual answers honestly.\n",
    "- If `coin_1 == 1`: the individual answers based on coin 2\n",
    "  - If `coin_2 == 0`: He will answer negatively (He always drove sober).\n",
    "  - If `coin_2 == 1`: He will answer affirmatively (He drunk drive at some point of his life)."
   ]
  },
  {
   "cell_type": "code",
   "execution_count": 44,
   "id": "experimental-edmonton",
   "metadata": {},
   "outputs": [],
   "source": [
    "def random_coin_flipping(p = 0.5):\n",
    "    coin1 = np.random.normal(0, 1, population_size) > p\n",
    "    coin2 = np.random.normal(0, 1, population_size) > p\n",
    "    return coin1, coin2"
   ]
  },
  {
   "cell_type": "code",
   "execution_count": 67,
   "id": "needed-society",
   "metadata": {},
   "outputs": [],
   "source": [
    "coin_1, coin_2 = random_coin_flipping()\n",
    "private_population = population * (1 - coin_1) + (coin_1) * coin_2"
   ]
  },
  {
   "cell_type": "markdown",
   "id": "colonial-phase",
   "metadata": {},
   "source": [
    "If we now calculate any measurement over the modified population, we will see how it does not alter the initial measurements.\n",
    "The power of Differential Privacy comes from having ensured the privacy of individuals."
   ]
  },
  {
   "cell_type": "code",
   "execution_count": 72,
   "id": "obvious-award",
   "metadata": {},
   "outputs": [
    {
     "name": "stdout",
     "output_type": "stream",
     "text": [
      "The average of the population is: 0.303400\n",
      "The average of the privatized population is: 0.304600\n",
      "The average or mean did only change by: -0.001200\n"
     ]
    }
   ],
   "source": [
    "m1 = private_population.mean()\n",
    "m2 = population.mean()\n",
    "print(\"The average of the population is: %f\" % (m1))\n",
    "print(\"The average of the privatized population is: %f\" % (m2))\n",
    "print(\"The average or mean did only change by: %f\" % (m1 - m2))"
   ]
  },
  {
   "cell_type": "code",
   "execution_count": 73,
   "id": "organic-consistency",
   "metadata": {},
   "outputs": [
    {
     "name": "stdout",
     "output_type": "stream",
     "text": [
      "The standard deviation of the population is: 0.459726\n",
      "The standard deviation of the privatized population is: 0.460238\n",
      "The standard deviation did only change by: -0.000511\n"
     ]
    }
   ],
   "source": [
    "m1 = private_population.std()\n",
    "m2 = population.std()\n",
    "print(\"The standard deviation of the population is: %f\" % (m1))\n",
    "print(\"The standard deviation of the privatized population is: %f\" % (m2))\n",
    "print(\"The standard deviation did only change by: %f\" % (m1 - m2))"
   ]
  },
  {
   "cell_type": "code",
   "execution_count": 116,
   "id": "union-chocolate",
   "metadata": {},
   "outputs": [],
   "source": [
    "def test_on_population(population_size, drunk_driving, coin_flipping_p=0.5):\n",
    "    population = np.random.choice(2, population_size, p=[1 - drunk_driving,drunk_driving])\n",
    "\n",
    "    coin_1 = np.random.normal(0, 1, population_size) > coin_flipping_p\n",
    "    coin_2 = np.random.normal(0, 1, population_size) > coin_flipping_p\n",
    "    private_population = population * (1 - coin_1) + (coin_1) * coin_2\n",
    "    \n",
    "    print(\"For a population of %d individuals, where %d %% drunk drove:\" %(population_size, int(drunk_driving * 100)))\n",
    "    m1 = private_population.mean()\n",
    "    m2 = population.mean()\n",
    "    \n",
    "    print(\"\\tThe average of the population is: %f\" % (m1))\n",
    "    print(\"\\tThe average of the privatized population is: %f\" % (m2))\n",
    "    print(\"\\tThe average or mean did only change by: %f\" % abs(m1 - m2))\n",
    "    m1 = private_population.std()\n",
    "    m2 = population.std()\n",
    "    print(\"\\tThe standard deviation of the population is: %f\" % (m1))\n",
    "    print(\"\\tThe standard deviation of the privatized population is: %f\" % (m2))\n",
    "    print(\"\\tThe standard deviation did only change by: %f\" % abs(m1 - m2))\n",
    "\n",
    "    "
   ]
  },
  {
   "cell_type": "markdown",
   "id": "latter-insert",
   "metadata": {},
   "source": [
    "The bigger we make the population, the less the changes affect our measurements."
   ]
  },
  {
   "cell_type": "code",
   "execution_count": 117,
   "id": "reasonable-alpha",
   "metadata": {},
   "outputs": [
    {
     "name": "stdout",
     "output_type": "stream",
     "text": [
      "For a population of 100 individuals, where 30 % drunk drove:\n",
      "\tThe average of the population is: 0.330000\n",
      "\tThe average of the privatized population is: 0.290000\n",
      "\tThe average or mean did only change by: 0.040000\n",
      "\tThe standard deviation of the population is: 0.470213\n",
      "\tThe standard deviation of the privatized population is: 0.453762\n",
      "\tThe standard deviation did only change by: 0.016451\n"
     ]
    }
   ],
   "source": [
    "test_on_population(100, drunk_driving)"
   ]
  },
  {
   "cell_type": "code",
   "execution_count": 118,
   "id": "exotic-shore",
   "metadata": {},
   "outputs": [
    {
     "name": "stdout",
     "output_type": "stream",
     "text": [
      "For a population of 1000 individuals, where 30 % drunk drove:\n",
      "\tThe average of the population is: 0.304000\n",
      "\tThe average of the privatized population is: 0.335000\n",
      "\tThe average or mean did only change by: 0.031000\n",
      "\tThe standard deviation of the population is: 0.459983\n",
      "\tThe standard deviation of the privatized population is: 0.471990\n",
      "\tThe standard deviation did only change by: 0.012008\n"
     ]
    }
   ],
   "source": [
    "test_on_population(1_000, drunk_driving)"
   ]
  },
  {
   "cell_type": "code",
   "execution_count": 119,
   "id": "bright-sphere",
   "metadata": {},
   "outputs": [
    {
     "name": "stdout",
     "output_type": "stream",
     "text": [
      "For a population of 100000 individuals, where 30 % drunk drove:\n",
      "\tThe average of the population is: 0.304710\n",
      "\tThe average of the privatized population is: 0.299910\n",
      "\tThe average or mean did only change by: 0.004800\n",
      "\tThe standard deviation of the population is: 0.460284\n",
      "\tThe standard deviation of the privatized population is: 0.458218\n",
      "\tThe standard deviation did only change by: 0.002066\n"
     ]
    }
   ],
   "source": [
    "test_on_population(100_000, drunk_driving)"
   ]
  },
  {
   "cell_type": "code",
   "execution_count": 120,
   "id": "canadian-participation",
   "metadata": {},
   "outputs": [
    {
     "name": "stdout",
     "output_type": "stream",
     "text": [
      "For a population of 1000000 individuals, where 30 % drunk drove:\n",
      "\tThe average of the population is: 0.302921\n",
      "\tThe average of the privatized population is: 0.299886\n",
      "\tThe average or mean did only change by: 0.003035\n",
      "\tThe standard deviation of the population is: 0.459521\n",
      "\tThe standard deviation of the privatized population is: 0.458208\n",
      "\tThe standard deviation did only change by: 0.001314\n"
     ]
    }
   ],
   "source": [
    "test_on_population(1_000_000, drunk_driving)"
   ]
  },
  {
   "cell_type": "code",
   "execution_count": 121,
   "id": "proud-oracle",
   "metadata": {},
   "outputs": [
    {
     "name": "stdout",
     "output_type": "stream",
     "text": [
      "For a population of 47000000 individuals, where 30 % drunk drove:\n",
      "\tThe average of the population is: 0.302695\n",
      "\tThe average of the privatized population is: 0.300108\n",
      "\tThe average or mean did only change by: 0.002587\n",
      "\tThe standard deviation of the population is: 0.459424\n",
      "\tThe standard deviation of the privatized population is: 0.458305\n",
      "\tThe standard deviation did only change by: 0.001120\n"
     ]
    }
   ],
   "source": [
    "test_on_population(47_000_000, drunk_driving)"
   ]
  }
 ],
 "metadata": {
  "kernelspec": {
   "display_name": "Python 3",
   "language": "python",
   "name": "python3"
  },
  "language_info": {
   "codemirror_mode": {
    "name": "ipython",
    "version": 3
   },
   "file_extension": ".py",
   "mimetype": "text/x-python",
   "name": "python",
   "nbconvert_exporter": "python",
   "pygments_lexer": "ipython3",
   "version": "3.8.8"
  }
 },
 "nbformat": 4,
 "nbformat_minor": 5
}
